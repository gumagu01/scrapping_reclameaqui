{
 "cells": [
  {
   "cell_type": "code",
   "execution_count": 28,
   "metadata": {},
   "outputs": [],
   "source": [
    "import pandas as pd\n",
    "import csv"
   ]
  },
  {
   "cell_type": "code",
   "execution_count": 29,
   "metadata": {},
   "outputs": [],
   "source": [
    "indevida = ['serasa','cobrança','indevida','cobranca','boleto','dívida','cobrando','parcela']\n",
    "atendimento = ['atendimento','resposta','contato','descaso','grosseria','atender','chat']\n",
    "atraso = ['atraso','atrasar','atrasado','prazo','demora','demorado']\n",
    "chegar = ['não chegou', 'nunca chegou','não entregaram','nunca entregaram','não recebi','nunca recebi', 'não veio','nunca veio','não entregue','nunca entregue','previsão de entrega','data de entrega','extraviado']\n",
    "errado = ['errado','trocado','incorreto','faltou','faltando','faltante','erro no pedido','erro no meu pedido','erro na encomenda','erro na minha encomenda']\n",
    "troca = ['troca', 'reembolso','reembolsar']\n",
    "produtos = ['baixa','péssima', 'pessima','qualidade','eficácia','estragou','alergia','arde','manch','estrag']\n",
    "brindes = ['brinde', 'pontos', 'prêmio','premio','fidelidade']\n",
    "\n",
    "def read_csv(path):\n",
    "    with open(path, encoding='utf-8') as f:\n",
    "        a = [{str(k):str(v) for k, v in row.items()}\n",
    "            for row in csv.DictReader(f, skipinitialspace=True)]\n",
    "        return a\n",
    "\n",
    "def categorie(title,complain):\n",
    "    title = title.lower()\n",
    "    complain = complain.lower()\n",
    "    if any(word in (title or complain)  for word in indevida):\n",
    "        return 'indevida'\n",
    "    elif any(word in (title or complain)  for word in atendimento):\n",
    "        return 'atendimento'\n",
    "    elif any(word in (title or complain)  for word in atraso):\n",
    "        return 'atraso'\n",
    "    elif any(word in (title or complain)  for word in chegar):\n",
    "        return 'nao chegar'\n",
    "    elif any(word in (title or complain)  for word in errado):\n",
    "        return 'errado'\n",
    "    elif any(word in (title or complain)  for word in troca):\n",
    "        return 'troca'\n",
    "    elif any(word in (title or complain)  for word in produtos):\n",
    "        return 'produtos'\n",
    "    elif any(word in (title or complain)  for word in brindes):\n",
    "        return 'brindes'\n",
    "    else:\n",
    "        return ''\n",
    "    "
   ]
  },
  {
   "cell_type": "code",
   "execution_count": 30,
   "metadata": {},
   "outputs": [],
   "source": [
    "empresas = read_csv(\"empresas.csv\")\n",
    "for empresa in empresas:\n",
    "    paths=[]\n",
    "    NaoRespondida = 'NaoRespondidas{}'.format(empresa['Empresas'])\n",
    "    Avaliadas = 'Avaliadas{}'.format(empresa['Empresas'])\n",
    "    Respondidas = 'Respondidas{}'.format(empresa['Empresas']) \n",
    "    \n",
    "    paths.append(NaoRespondida)\n",
    "    paths.append(Avaliadas)\n",
    "    paths.append(Respondidas)\n",
    "    \n",
    "    for path in paths:\n",
    "        df = pd.read_csv(\"./results/{}/{}.csv\".format(empresa['Empresas'],path))\n",
    "        \n",
    "        df = df[['Title','Complain','Type','Score','DealAgain','Status', 'Created']]\n",
    "\n",
    "        df['categoria'] = df.apply(lambda row : categorie(str(row['Title']),str(row['Complain'])), axis = 1)\n",
    "\n",
    "        df.to_csv(\"./results/{}/{}.csv\".format(empresa['Empresas'],path))"
   ]
  }
 ],
 "metadata": {
  "interpreter": {
   "hash": "395b8b1a245bd4232c60211d501b4c6c8b458ee5aedb01629aceb709b5577add"
  },
  "kernelspec": {
   "display_name": "Python 3.7.11 64-bit ('venv': conda)",
   "language": "python",
   "name": "python3"
  },
  "language_info": {
   "codemirror_mode": {
    "name": "ipython",
    "version": 3
   },
   "file_extension": ".py",
   "mimetype": "text/x-python",
   "name": "python",
   "nbconvert_exporter": "python",
   "pygments_lexer": "ipython3",
   "version": "3.7.11"
  },
  "orig_nbformat": 4
 },
 "nbformat": 4,
 "nbformat_minor": 2
}
